{
 "cells": [
  {
   "cell_type": "code",
   "execution_count": 8,
   "id": "35af240b-f817-49fd-ad93-b34b647e3228",
   "metadata": {},
   "outputs": [],
   "source": [
    "import time\n",
    "from DNNTrainFlow import DNNTrainFlow"
   ]
  },
  {
   "cell_type": "markdown",
   "id": "35203c03-74e7-4f06-ade8-6799620eebb8",
   "metadata": {},
   "source": [
    "## configure / inputs to the flow / define the task"
   ]
  },
  {
   "cell_type": "code",
   "execution_count": 9,
   "id": "60ae6061-1e6e-4441-83d3-f37a6c4e5bef",
   "metadata": {},
   "outputs": [],
   "source": [
    "dnn_flow = DNNTrainFlow(cfg='wf-cfg-sambanova.yaml')"
   ]
  },
  {
   "cell_type": "markdown",
   "id": "aeccd154-959f-4b14-b0e4-f2754e24b949",
   "metadata": {},
   "source": [
    "## Run the flow, fire-and-forget"
   ]
  },
  {
   "cell_type": "code",
   "execution_count": 10,
   "id": "dececfbd-cba2-473a-9742-548281970d0d",
   "metadata": {},
   "outputs": [],
   "source": [
    "action = dnn_flow.run()"
   ]
  },
  {
   "cell_type": "markdown",
   "id": "ea04e0c9-f412-4713-b412-a1b950f09dca",
   "metadata": {},
   "source": [
    "## Querying flow state "
   ]
  },
  {
   "cell_type": "code",
   "execution_count": 11,
   "id": "d9b48192-2c81-4643-a038-0d1ade9f35a2",
   "metadata": {},
   "outputs": [
    {
     "name": "stdout",
     "output_type": "stream",
     "text": [
      "Flow State: UNKNOWN; total elapsed time: 1.9 seconds.\n",
      "Flow State: UNKNOWN; total elapsed time: 8.2 seconds.\n",
      "Flow State: TrainModel; total elapsed time: 14.2 seconds.\n",
      "Flow State: TrainModel; total elapsed time: 20.1 seconds.\n",
      "Flow State: TrainModel; total elapsed time: 26.0 seconds.\n",
      "Flow State: TrainModel; total elapsed time: 32.0 seconds.\n",
      "Flow State: TrainModel; total elapsed time: 37.8 seconds.\n",
      "Flow State: TrainModel; total elapsed time: 44.0 seconds.\n",
      "Flow State: TrainModel; total elapsed time: 49.8 seconds.\n",
      "Flow State: TrainModel; total elapsed time: 55.7 seconds.\n",
      "Flow State: TrainModel; total elapsed time: 61.7 seconds.\n",
      "Flow State: TrainModel; total elapsed time: 68.0 seconds.\n",
      "Flow State: TrainModel; total elapsed time: 74.2 seconds.\n",
      "Flow State: TrainModel; total elapsed time: 80.3 seconds.\n",
      "Flow State: TrainModel; total elapsed time: 86.5 seconds.\n",
      "Flow State: TrainModel; total elapsed time: 92.3 seconds.\n",
      "Flow State: TrainModel; total elapsed time: 98.4 seconds.\n",
      "Flow State: TrainModel; total elapsed time: 104.7 seconds.\n",
      "Flow State: TrainModel; total elapsed time: 110.9 seconds.\n",
      "Flow State: TrainModel; total elapsed time: 117.2 seconds.\n",
      "Flow State: TrainModel; total elapsed time: 123.5 seconds.\n",
      "Flow State: TrainModel; total elapsed time: 129.8 seconds.\n",
      "Flow State: TrainModel; total elapsed time: 135.9 seconds.\n",
      "Flow State: TrainModel; total elapsed time: 141.6 seconds.\n",
      "Flow State: TrainModel; total elapsed time: 147.4 seconds.\n",
      "Flow State: TrainModel; total elapsed time: 153.3 seconds.\n",
      "Flow State: TrainModel; total elapsed time: 159.3 seconds.\n",
      "Flow State: TrainModel; total elapsed time: 165.6 seconds.\n",
      "Flow State: TransferModel; total elapsed time: 171.8 seconds.\n",
      "Flow State: TransferModel; total elapsed time: 178.2 seconds.\n",
      "Flow State: TransferModel; total elapsed time: 184.3 seconds.\n",
      "Flow State: TransferModel; total elapsed time: 190.4 seconds.\n",
      "Flow is not Active. It's SUCCEEDED!\n"
     ]
    }
   ],
   "source": [
    "while True:\n",
    "    msg, is_active = dnn_flow.progress()\n",
    "    print(msg)\n",
    "    if not is_active: break\n",
    "    time.sleep(5)"
   ]
  },
  {
   "cell_type": "code",
   "execution_count": null,
   "id": "ac5a1df3-31f4-4249-971a-3ede486834d0",
   "metadata": {},
   "outputs": [],
   "source": []
  }
 ],
 "metadata": {
  "kernelspec": {
   "display_name": "Python 3",
   "language": "python",
   "name": "python3"
  },
  "language_info": {
   "codemirror_mode": {
    "name": "ipython",
    "version": 3
   },
   "file_extension": ".py",
   "mimetype": "text/x-python",
   "name": "python",
   "nbconvert_exporter": "python",
   "pygments_lexer": "ipython3",
   "version": "3.8.5"
  }
 },
 "nbformat": 4,
 "nbformat_minor": 5
}
