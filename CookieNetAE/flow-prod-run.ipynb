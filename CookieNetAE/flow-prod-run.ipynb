{
 "cells": [
  {
   "cell_type": "code",
   "execution_count": 1,
   "id": "35af240b-f817-49fd-ad93-b34b647e3228",
   "metadata": {},
   "outputs": [],
   "source": [
    "import time\n",
    "from DNNTrainFlow import DNNTrainFlow"
   ]
  },
  {
   "cell_type": "markdown",
   "id": "35203c03-74e7-4f06-ade8-6799620eebb8",
   "metadata": {},
   "source": [
    "## configure / inputs to the flow / define the task"
   ]
  },
  {
   "cell_type": "code",
   "execution_count": 16,
   "id": "60ae6061-1e6e-4441-83d3-f37a6c4e5bef",
   "metadata": {},
   "outputs": [],
   "source": [
    "dnn_flow = DNNTrainFlow(cfg='wf-cfg-lambda.yaml')"
   ]
  },
  {
   "cell_type": "markdown",
   "id": "aeccd154-959f-4b14-b0e4-f2754e24b949",
   "metadata": {},
   "source": [
    "## Run the flow, fire-and-forget"
   ]
  },
  {
   "cell_type": "code",
   "execution_count": 17,
   "id": "dececfbd-cba2-473a-9742-548281970d0d",
   "metadata": {},
   "outputs": [],
   "source": [
    "action = dnn_flow.run()"
   ]
  },
  {
   "cell_type": "markdown",
   "id": "ea04e0c9-f412-4713-b412-a1b950f09dca",
   "metadata": {},
   "source": [
    "## Querying flow state "
   ]
  },
  {
   "cell_type": "code",
   "execution_count": 18,
   "id": "d9b48192-2c81-4643-a038-0d1ade9f35a2",
   "metadata": {},
   "outputs": [
    {
     "name": "stdout",
     "output_type": "stream",
     "text": [
      "Flow State: UNKNOWN; total elapsed time: 0.8 seconds.\n",
      "Flow State: runSimulation; total elapsed time: 4.9 seconds.\n",
      "Flow State: runSimulation; total elapsed time: 8.7 seconds.\n",
      "Flow State: runSimulation; total elapsed time: 12.3 seconds.\n",
      "Flow State: runSimulation; total elapsed time: 15.9 seconds.\n",
      "Flow State: runSimulation; total elapsed time: 19.7 seconds.\n",
      "Flow State: runSimulation; total elapsed time: 23.3 seconds.\n",
      "Flow State: runSimulation; total elapsed time: 27.0 seconds.\n",
      "Flow State: runSimulation; total elapsed time: 30.6 seconds.\n",
      "Flow State: runSimulation; total elapsed time: 34.4 seconds.\n",
      "Flow State: runSimulation; total elapsed time: 38.2 seconds.\n",
      "Flow State: runSimulation; total elapsed time: 41.9 seconds.\n",
      "Flow State: runSimulation; total elapsed time: 45.6 seconds.\n",
      "Flow State: runSimulation; total elapsed time: 49.4 seconds.\n",
      "Flow State: runSimulation; total elapsed time: 53.2 seconds.\n",
      "Flow State: runSimulation; total elapsed time: 56.9 seconds.\n",
      "Flow State: runSimulation; total elapsed time: 60.7 seconds.\n",
      "Flow State: runSimulation; total elapsed time: 64.6 seconds.\n",
      "Flow State: runSimulation; total elapsed time: 68.3 seconds.\n",
      "Flow State: runSimulation; total elapsed time: 72.1 seconds.\n",
      "Flow State: runSimulation; total elapsed time: 75.7 seconds.\n",
      "Flow State: runSimulation; total elapsed time: 79.4 seconds.\n",
      "Flow State: runSimulation; total elapsed time: 83.0 seconds.\n",
      "Flow State: runSimulation; total elapsed time: 86.8 seconds.\n",
      "Flow State: runSimulation; total elapsed time: 90.6 seconds.\n",
      "Flow State: runSimulation; total elapsed time: 94.4 seconds.\n",
      "Flow State: runSimulation; total elapsed time: 98.1 seconds.\n",
      "Flow State: runSimulation; total elapsed time: 101.8 seconds.\n",
      "Flow State: runSimulation; total elapsed time: 105.5 seconds.\n",
      "Flow State: runSimulation; total elapsed time: 109.3 seconds.\n",
      "Flow State: runSimulation; total elapsed time: 113.0 seconds.\n",
      "Flow State: runSimulation; total elapsed time: 116.7 seconds.\n",
      "Flow State: runSimulation; total elapsed time: 120.4 seconds.\n",
      "Flow State: runSimulation; total elapsed time: 124.2 seconds.\n",
      "Flow State: runSimulation; total elapsed time: 128.2 seconds.\n",
      "Flow State: runSimulation; total elapsed time: 131.8 seconds.\n",
      "Flow State: runSimulation; total elapsed time: 135.4 seconds.\n",
      "Flow State: runSimulation; total elapsed time: 139.2 seconds.\n",
      "Flow State: runSimulation; total elapsed time: 143.3 seconds.\n",
      "Flow State: runSimulation; total elapsed time: 147.3 seconds.\n",
      "Flow State: runSimulation; total elapsed time: 151.0 seconds.\n",
      "Flow State: cureData; total elapsed time: 154.7 seconds.\n",
      "Flow State: cureData; total elapsed time: 158.3 seconds.\n",
      "Flow State: cureData; total elapsed time: 162.0 seconds.\n",
      "Flow State: cureData; total elapsed time: 165.6 seconds.\n",
      "Flow State: cureData; total elapsed time: 169.3 seconds.\n",
      "Flow State: cureData; total elapsed time: 173.2 seconds.\n",
      "Flow State: cureData; total elapsed time: 176.9 seconds.\n",
      "Flow State: cureData; total elapsed time: 180.7 seconds.\n",
      "Flow State: cureData; total elapsed time: 184.4 seconds.\n",
      "Flow State: cureData; total elapsed time: 188.0 seconds.\n",
      "Flow State: cureData; total elapsed time: 191.8 seconds.\n",
      "Flow State: cureData; total elapsed time: 195.5 seconds.\n",
      "Flow State: UNKNOWN; total elapsed time: 199.3 seconds.\n",
      "Flow State: transferData; total elapsed time: 203.0 seconds.\n",
      "Flow State: UNKNOWN; total elapsed time: 206.9 seconds.\n",
      "Flow State: trainModel; total elapsed time: 210.7 seconds.\n",
      "Flow State: trainModel; total elapsed time: 214.6 seconds.\n",
      "Flow State: trainModel; total elapsed time: 218.5 seconds.\n",
      "Flow State: trainModel; total elapsed time: 222.3 seconds.\n",
      "Flow State: UNKNOWN; total elapsed time: 225.9 seconds.\n",
      "Flow State: UNKNOWN; total elapsed time: 229.8 seconds.\n",
      "Flow State: transferModel; total elapsed time: 233.5 seconds.\n",
      "Flow is not Active. It's SUCCEEDED!\n"
     ]
    }
   ],
   "source": [
    "while True:\n",
    "    msg, is_active = dnn_flow.progress()\n",
    "    print(msg)\n",
    "    if not is_active: break\n",
    "    time.sleep(3)"
   ]
  },
  {
   "cell_type": "code",
   "execution_count": null,
   "id": "ac5a1df3-31f4-4249-971a-3ede486834d0",
   "metadata": {},
   "outputs": [],
   "source": []
  }
 ],
 "metadata": {
  "kernelspec": {
   "display_name": "Python 3",
   "language": "python",
   "name": "python3"
  },
  "language_info": {
   "codemirror_mode": {
    "name": "ipython",
    "version": 3
   },
   "file_extension": ".py",
   "mimetype": "text/x-python",
   "name": "python",
   "nbconvert_exporter": "python",
   "pygments_lexer": "ipython3",
   "version": "3.8.5"
  }
 },
 "nbformat": 4,
 "nbformat_minor": 5
}
